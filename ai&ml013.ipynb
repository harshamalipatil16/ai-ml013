{
  "nbformat": 4,
  "nbformat_minor": 0,
  "metadata": {
    "colab": {
      "provenance": [],
      "authorship_tag": "ABX9TyOHgbo4XfRtIufGUyebihn+",
      "include_colab_link": true
    },
    "kernelspec": {
      "name": "python3",
      "display_name": "Python 3"
    },
    "language_info": {
      "name": "python"
    }
  },
  "cells": [
    {
      "cell_type": "markdown",
      "metadata": {
        "id": "view-in-github",
        "colab_type": "text"
      },
      "source": [
        "<a href=\"https://colab.research.google.com/github/harshamalipatil16/ai-ml013/blob/main/ai%26ml013.ipynb\" target=\"_parent\"><img src=\"https://colab.research.google.com/assets/colab-badge.svg\" alt=\"Open In Colab\"/></a>"
      ]
    },
    {
      "cell_type": "code",
      "source": [
        "import numpy as np\n",
        "a = np.array([5,10,15])\n",
        "b = np.array([1,2,3])\n",
        "\n",
        "result=a+b\n",
        "print(result)"
      ],
      "metadata": {
        "colab": {
          "base_uri": "https://localhost:8080/"
        },
        "id": "icuI0f9Npy6S",
        "outputId": "1ac1c840-3912-4972-cf17-9a795be9017a"
      },
      "execution_count": null,
      "outputs": [
        {
          "output_type": "stream",
          "name": "stdout",
          "text": [
            "[ 6 12 18]\n"
          ]
        }
      ]
    },
    {
      "cell_type": "code",
      "source": [
        "import numpy as np\n",
        "rand_array=np.random.randint(1,100,size=10)\n",
        "print(\"random array:\",rand_array)"
      ],
      "metadata": {
        "id": "YeFd4PVWp0ZQ"
      },
      "execution_count": null,
      "outputs": []
    },
    {
      "cell_type": "code",
      "execution_count": null,
      "metadata": {
        "colab": {
          "base_uri": "https://localhost:8080/",
          "height": 472
        },
        "id": "75NF944DkGfD",
        "outputId": "8d198c7b-f742-4055-8eab-141d26efe7ac"
      },
      "outputs": [
        {
          "output_type": "display_data",
          "data": {
            "text/plain": [
              "<Figure size 640x480 with 1 Axes>"
            ],
            "image/png": "[encoded data removed]"
          },
          "metadata": {}
        }
      ],
      "source": [
        "import matplotlib.pyplot as plt\n",
        "\n",
        "lables = [18, 22, 21, 25, 30, 27, 25, 22, 19]\n",
        "plt.hist(lables, bins=5, color='green')\n",
        "plt.title(\"Age Distribution\")\n",
        "plt.xlabel(\"Age\")\n",
        "plt.ylabel(\"Frequency\")\n",
        "plt.show()\n"
      ]
    },
    {
      "cell_type": "code",
      "source": [
        "import pandas as pd\n",
        "\n",
        "exam_data = {'name': ['manish', 'dhiraj', 'man', 'dhir'],\n",
        "             'score': [12, 5, 91, 2]}\n",
        "df = pd.DataFrame(exam_data)\n",
        "\n",
        "medium = ['english', 'hindi', 'hindi', 'english']\n",
        "\n",
        "df['medium'] = medium\n",
        "\n",
        "print(\"\\nNew DataFrame after insertion:\")\n",
        "print(df)\n"
      ],
      "metadata": {
        "colab": {
          "base_uri": "https://localhost:8080/"
        },
        "id": "92LP1oz1qdlM",
        "outputId": "e024ea05-ad73-41b2-b276-2c19f9008ee0"
      },
      "execution_count": null,
      "outputs": [
        {
          "output_type": "stream",
          "name": "stdout",
          "text": [
            "\n",
            "New DataFrame after insertion:\n",
            "     name  score   medium\n",
            "0  manish     12  english\n",
            "1  dhiraj      5    hindi\n",
            "2     man     91    hindi\n",
            "3    dhir      2  english\n"
          ]
        }
      ]
    },
    {
      "cell_type": "code",
      "source": [
        "import pandas as pd\n",
        "import numpy as np\n",
        "\n",
        "exam_data = {\n",
        "    'name': ['manish', 'dhiraj', 'amit'],\n",
        "    'score': [121, 51, 91]\n",
        "}\n",
        "\n",
        "df = pd.DataFrame(exam_data)  # Corrected the typo here\n",
        "print(df)\n"
      ],
      "metadata": {
        "colab": {
          "base_uri": "https://localhost:8080/"
        },
        "id": "25DcRTn6s9v5",
        "outputId": "45c03058-3a0f-4fe9-ad0c-fe070cff56dd"
      },
      "execution_count": null,
      "outputs": [
        {
          "output_type": "stream",
          "name": "stdout",
          "text": [
            "     name  score\n",
            "0  manish    121\n",
            "1  dhiraj     51\n",
            "2    amit     91\n"
          ]
        }
      ]
    },
    {
      "cell_type": "code",
      "source": [
        "import pandas as pd\n",
        "import numpy as np\n",
        "\n",
        "exam_data = {\n",
        "    'name' : ['manish','dhiraj'],\n",
        "    'score' : [12.5,9]\n",
        "}\n",
        "lables = ['name','score']\n",
        "df = pd.DataFrame(exam_data,lables)\n",
        "print(df)"
      ],
      "metadata": {
        "colab": {
          "base_uri": "https://localhost:8080/"
        },
        "id": "WCsCwXc92Xfk",
        "outputId": "15faddb4-4b5e-470e-8958-04aeda217920"
      },
      "execution_count": null,
      "outputs": [
        {
          "output_type": "stream",
          "name": "stdout",
          "text": [
            "         name  score\n",
            "name   manish   12.5\n",
            "score  dhiraj    9.0\n"
          ]
        }
      ]
    },
    {
      "cell_type": "code",
      "source": [
        "import pandas as pd\n",
        "\n",
        "s = pd.Series([1000, 20000, 300000])\n",
        "\n",
        "print(\"Original data series:\")\n",
        "print(s)\n",
        "\n",
        "new_s = s.sort_values()\n",
        "print(\"\\nSorted series:\")\n",
        "print(new_s)\n"
      ],
      "metadata": {
        "colab": {
          "base_uri": "https://localhost:8080/"
        },
        "id": "nwYlcPZWudNQ",
        "outputId": "a51197a9-9a54-4cdc-956e-860c92c3cf76"
      },
      "execution_count": null,
      "outputs": [
        {
          "output_type": "stream",
          "name": "stdout",
          "text": [
            "Original data series:\n",
            "0      1000\n",
            "1     20000\n",
            "2    300000\n",
            "dtype: int64\n",
            "\n",
            "Sorted series:\n",
            "0      1000\n",
            "1     20000\n",
            "2    300000\n",
            "dtype: int64\n"
          ]
        }
      ]
    },
    {
      "cell_type": "code",
      "source": [
        "import numpy as np\n",
        "\n",
        "s = np.array([0, np.pi/2, np.pi])\n",
        "y = np.sin(s)\n",
        "\n",
        "print(\"x values:\", s)\n",
        "print(\"sin(x):\", y)\n"
      ],
      "metadata": {
        "colab": {
          "base_uri": "https://localhost:8080/"
        },
        "id": "KN0UTvfedYqN",
        "outputId": "90ceafcf-1cff-4189-c2e0-77fa68298767"
      },
      "execution_count": null,
      "outputs": [
        {
          "output_type": "stream",
          "name": "stdout",
          "text": [
            "x values: [0.         1.57079633 3.14159265]\n",
            "sin(x): [0.0000000e+00 1.0000000e+00 1.2246468e-16]\n"
          ]
        }
      ]
    },
    {
      "cell_type": "code",
      "source": [
        "import pandas as pd\n",
        "import numpy as np\n",
        "\n",
        "exam_data = {\n",
        "    'name': ['manish', 'dhiraj', 'man'],\n",
        "    'score': [12.5, 91, 9]\n",
        "}\n",
        "\n",
        "df = pd.DataFrame(exam_data)\n",
        "\n",
        "print(\"First three rows of the data frame:\")\n",
        "print(df.head(3))\n"
      ],
      "metadata": {
        "id": "_YkFDC5_eaz0",
        "colab": {
          "base_uri": "https://localhost:8080/"
        },
        "outputId": "2e820264-f55f-4e59-ac36-b8464ae1b925"
      },
      "execution_count": null,
      "outputs": [
        {
          "output_type": "stream",
          "name": "stdout",
          "text": [
            "First three rows of the data frame:\n",
            "     name  score\n",
            "0  manish   12.5\n",
            "1  dhiraj   91.0\n",
            "2     man    9.0\n"
          ]
        }
      ]
    },
    {
      "cell_type": "code",
      "source": [
        "import pandas as pd\n",
        "\n",
        "data = [5, 10, 15, 20, 25]\n",
        "series = pd.Series(data)\n",
        "\n",
        "print(series)\n"
      ],
      "metadata": {
        "colab": {
          "base_uri": "https://localhost:8080/"
        },
        "id": "njgpAzeUgGmz",
        "outputId": "da5cc6da-8fc2-4b1b-948e-1aa692c19729"
      },
      "execution_count": null,
      "outputs": [
        {
          "output_type": "stream",
          "name": "stdout",
          "text": [
            "0     5\n",
            "1    10\n",
            "2    15\n",
            "3    20\n",
            "4    25\n",
            "dtype: int64\n"
          ]
        }
      ]
    },
    {
      "cell_type": "code",
      "source": [
        "numbers = [10,15,20,25,30]\n",
        "odds = list(filter(lambda x: x % 2 != 0, numbers))\n",
        "print(odds)\n"
      ],
      "metadata": {
        "id": "dPPjM8E_gduC",
        "colab": {
          "base_uri": "https://localhost:8080/"
        },
        "outputId": "9a778268-c99c-4d32-c980-4153e1abafdd"
      },
      "execution_count": null,
      "outputs": [
        {
          "output_type": "stream",
          "name": "stdout",
          "text": [
            "[15, 25]\n"
          ]
        }
      ]
    },
    {
      "cell_type": "code",
      "source": [
        "multiply = lambda x, y, z: x * y * z\n",
        "print(multiply(2,3,4))"
      ],
      "metadata": {
        "colab": {
          "base_uri": "https://localhost:8080/"
        },
        "id": "GddrPzqcst_B",
        "outputId": "04dc8dff-de33-4f81-9a89-7c7941005f23"
      },
      "execution_count": null,
      "outputs": [
        {
          "output_type": "stream",
          "name": "stdout",
          "text": [
            "24\n"
          ]
        }
      ]
    },
    {
      "cell_type": "code",
      "source": [
        "from functools import reduce\n",
        "\n",
        "numbers = [1, 2, 3, 4]\n",
        "product = reduce(lambda x, y: x * y, numbers)\n",
        "print(product)\n"
      ],
      "metadata": {
        "colab": {
          "base_uri": "https://localhost:8080/"
        },
        "id": "nY6HY-l5tGVR",
        "outputId": "c8c003ec-c035-40c7-9cd6-3e734032a10f"
      },
      "execution_count": null,
      "outputs": [
        {
          "output_type": "stream",
          "name": "stdout",
          "text": [
            "24\n"
          ]
        }
      ]
    },
    {
      "cell_type": "code",
      "source": [
        "n = lambda x:\"positive\" if x>0 else \"negative\" if x<0 else \"zero\"\n",
        "print(n(5))\n",
        "print(n(-3))\n",
        "print(n(0))"
      ],
      "metadata": {
        "colab": {
          "base_uri": "https://localhost:8080/"
        },
        "id": "uFMddTVwuyP-",
        "outputId": "36f7fc62-02db-4a61-ccce-b7b64106dc59"
      },
      "execution_count": null,
      "outputs": [
        {
          "output_type": "stream",
          "name": "stdout",
          "text": [
            "positive\n",
            "negative\n",
            "zero\n"
          ]
        }
      ]
    },
    {
      "cell_type": "code",
      "source": [
        "check_even = lambda x: \"Even\" if x % 2 = 0 else \"odd\"\n",
        "print(check_even(4))\n",
        "print(check_even(7))"
      ],
      "metadata": {
        "colab": {
          "base_uri": "https://localhost:8080/",
          "height": 106
        },
        "id": "OGQ4anAxzDgc",
        "outputId": "80a65862-f33f-4877-febc-733dd079fb08"
      },
      "execution_count": null,
      "outputs": [
        {
          "output_type": "error",
          "ename": "SyntaxError",
          "evalue": "expected 'else' after 'if' expression (ipython-input-2-2407898961.py, line 1)",
          "traceback": [
            "\u001b[0;36m  File \u001b[0;32m\"/tmp/ipython-input-2-2407898961.py\"\u001b[0;36m, line \u001b[0;32m1\u001b[0m\n\u001b[0;31m    check_even = lambda x: 'Even' if x % 2 = 0 else 'odd'\u001b[0m\n\u001b[0m                           ^\u001b[0m\n\u001b[0;31mSyntaxError\u001b[0m\u001b[0;31m:\u001b[0m expected 'else' after 'if' expression\n"
          ]
        }
      ]
    },
    {
      "cell_type": "code",
      "source": [
        "student =[ {\"name\":\"alice\",\"score\":85},\n",
        "    {\"name\":\"bob\",\"score\":92},\n",
        "    {\"name\":\"charlie\",\"score\":78}]\n",
        "sorted_student =sorted(student,key= lambda student:student[\"score\"])\n",
        "print(sorted_student)"
      ],
      "metadata": {
        "colab": {
          "base_uri": "https://localhost:8080/"
        },
        "id": "_-j9tvsbvcJP",
        "outputId": "e4dac76b-1038-4dee-88aa-702f3276e153"
      },
      "execution_count": null,
      "outputs": [
        {
          "output_type": "stream",
          "name": "stdout",
          "text": [
            "[{'name': 'charlie', 'score': 78}, {'name': 'alice', 'score': 85}, {'name': 'bob', 'score': 92}]\n"
          ]
        }
      ]
    },
    {
      "cell_type": "code",
      "source": [
        "square = lambda x: x ** 2\n",
        "print(square(4))"
      ],
      "metadata": {
        "colab": {
          "base_uri": "https://localhost:8080/"
        },
        "id": "jMPJLDtbwq7e",
        "outputId": "5f8b0b9b-b0cc-49ff-b6d2-a14715d57f28"
      },
      "execution_count": null,
      "outputs": [
        {
          "output_type": "stream",
          "name": "stdout",
          "text": [
            "16\n"
          ]
        }
      ]
    },
    {
      "cell_type": "code",
      "source": [
        "s1='geeks for geeks'\n",
        "s2=lambda func:func.upper()\n",
        "print(s2(s1))"
      ],
      "metadata": {
        "colab": {
          "base_uri": "https://localhost:8080/"
        },
        "id": "NpGmEpUIxJT8",
        "outputId": "cc80006f-0c30-4ccc-87da-097824655758"
      },
      "execution_count": null,
      "outputs": [
        {
          "output_type": "stream",
          "name": "stdout",
          "text": [
            "GEEKS FOR GEEKS\n"
          ]
        }
      ]
    },
    {
      "cell_type": "code",
      "source": [
        "def make_multiplics(n):\n",
        "  return lambda x : x*n\n",
        "double =make_multiplics(2)\n",
        "triple =make_multiplics(3)\n",
        "print(double(5))\n",
        "print(triple(5))"
      ],
      "metadata": {
        "colab": {
          "base_uri": "https://localhost:8080/"
        },
        "id": "6v_fh7sOnn2D",
        "outputId": "75cc9df6-9448-41ac-c11a-4947497a65fc"
      },
      "execution_count": null,
      "outputs": [
        {
          "output_type": "stream",
          "name": "stdout",
          "text": [
            "10\n",
            "15\n"
          ]
        }
      ]
    },
    {
      "cell_type": "code",
      "source": [
        "import pandas as pd\n",
        "\n",
        "s = pd.Series(data=[1, 2, 3], index=['a', 'b', 'c'])\n",
        "print(\"Original data series:\")\n",
        "print(s)\n",
        "\n",
        "s = s.reindex(index=['b', 'a', 'c'])\n",
        "print(\"\\nData Series after changing the order of index:\")\n",
        "print(s)\n"
      ],
      "metadata": {
        "colab": {
          "base_uri": "https://localhost:8080/"
        },
        "id": "0Ve_S4Pvoygj",
        "outputId": "63bbe40d-5ef9-462b-a1bd-80abf8a6c4eb"
      },
      "execution_count": null,
      "outputs": [
        {
          "output_type": "stream",
          "name": "stdout",
          "text": [
            "Original data series:\n",
            "a    1\n",
            "b    2\n",
            "c    3\n",
            "dtype: int64\n",
            "\n",
            "Data Series after changing the order of index:\n",
            "b    2\n",
            "a    1\n",
            "c    3\n",
            "dtype: int64\n"
          ]
        }
      ]
    },
    {
      "cell_type": "code",
      "source": [
        "import pandas as pd\n",
        "\n",
        "ds1 = pd.Series([2, 4, 8, 10])\n",
        "ds2 = pd.Series([1, 3, 5, 7])\n",
        "\n",
        "print(\"Multiply two series:\")\n",
        "ds = ds1 * ds2\n",
        "print(ds)\n",
        "\n",
        "print(\"\\nDivide series 1 by series 2:\")\n",
        "ds = ds1 / ds2\n",
        "print(ds)"
      ],
      "metadata": {
        "colab": {
          "base_uri": "https://localhost:8080/"
        },
        "id": "wZ8e17qDrPbc",
        "outputId": "6cdb6557-28ee-455e-eaa6-8942b2a23045"
      },
      "execution_count": null,
      "outputs": [
        {
          "output_type": "stream",
          "name": "stdout",
          "text": [
            "Multiply two series:\n",
            "0     2\n",
            "1    12\n",
            "2    40\n",
            "3    70\n",
            "dtype: int64\n",
            "\n",
            "Divide series 1 by series 2:\n",
            "0    2.000000\n",
            "1    1.333333\n",
            "2    1.600000\n",
            "3    1.428571\n",
            "dtype: float64\n"
          ]
        }
      ]
    },
    {
      "cell_type": "code",
      "source": [
        "import pandas as pd\n",
        "\n",
        "d1 = {'a': 100, 'b': 200, 'c': 300}\n",
        "print(\"Original dictionary:\")\n",
        "print(d1)\n",
        "\n",
        "new_series = pd.Series(d1)\n",
        "print(\"Converted series:\")\n",
        "print(new_series)"
      ],
      "metadata": {
        "colab": {
          "base_uri": "https://localhost:8080/"
        },
        "id": "Xh41bFJGsPTe",
        "outputId": "82a9ed44-bd13-4b19-b710-06185575a6de"
      },
      "execution_count": null,
      "outputs": [
        {
          "output_type": "stream",
          "name": "stdout",
          "text": [
            "Original dictionary:\n",
            "{'a': 100, 'b': 200, 'c': 300}\n",
            "Converted series:\n",
            "a    100\n",
            "b    200\n",
            "c    300\n",
            "dtype: int64\n"
          ]
        }
      ]
    },
    {
      "cell_type": "code",
      "source": [
        "import pandas as pd\n",
        "import numpy as np\n",
        "\n",
        "exam_data = {\n",
        "    'name': ['manish','dhiraj'],\n",
        "    'score':[12.5,9]\n",
        "}\n",
        "lables=['names','score']\n",
        "df = pd.DataFrame(exam_data,lables)\n",
        "print(df)"
      ],
      "metadata": {
        "colab": {
          "base_uri": "https://localhost:8080/"
        },
        "id": "7-BhOBC6qb2a",
        "outputId": "18d8c915-0bef-4e6e-d1fc-2e4a5e9e321f"
      },
      "execution_count": null,
      "outputs": [
        {
          "output_type": "stream",
          "name": "stdout",
          "text": [
            "         name  score\n",
            "names  manish   12.5\n",
            "score  dhiraj    9.0\n"
          ]
        }
      ]
    },
    {
      "cell_type": "code",
      "source": [
        "import pandas as pd\n",
        "\n",
        "s = pd.Series([400, 300.12, 100, 200])\n",
        "print(\"Original series:\")\n",
        "print(s)\n",
        "\n",
        "new_s = s.sort_values()\n",
        "print(\"Sorted series:\")\n",
        "print(new_s)"
      ],
      "metadata": {
        "colab": {
          "base_uri": "https://localhost:8080/"
        },
        "id": "tgfe1D5gtD8q",
        "outputId": "ff9b55b6-4bec-447c-95e6-2543e7560d09"
      },
      "execution_count": null,
      "outputs": [
        {
          "output_type": "stream",
          "name": "stdout",
          "text": [
            "Original series:\n",
            "0    400.00\n",
            "1    300.12\n",
            "2    100.00\n",
            "3    200.00\n",
            "dtype: float64\n",
            "Sorted series:\n",
            "2    100.00\n",
            "3    200.00\n",
            "1    300.12\n",
            "0    400.00\n",
            "dtype: float64\n"
          ]
        }
      ]
    },
    {
      "cell_type": "code",
      "source": [
        "import numpy as np\n",
        "rand_array = np.random.randint(1,100,size = 10)\n",
        "print(\"random array:\",rand_array)\n",
        "print(\"maximum:\",np.max)"
      ],
      "metadata": {
        "id": "OUaBJoJ9uDjj"
      },
      "execution_count": null,
      "outputs": []
    },
    {
      "cell_type": "code",
      "source": [
        "import pandas as pd\n",
        "\n",
        "series1 = pd.Series([5, 10, 15, 20, 25], index=['a', 'b', 'c', 'd', 'e'])\n",
        "print(\"Q1 & Q2 - Custom series:\\n\", series1)"
      ],
      "metadata": {
        "colab": {
          "base_uri": "https://localhost:8080/"
        },
        "id": "78l6MyDkwPVD",
        "outputId": "003ac539-da3b-451a-f822-508c51e83f0c"
      },
      "execution_count": null,
      "outputs": [
        {
          "output_type": "stream",
          "name": "stdout",
          "text": [
            "Q1 & Q2 - Custom series:\n",
            " a     5\n",
            "b    10\n",
            "c    15\n",
            "d    20\n",
            "e    25\n",
            "dtype: int64\n"
          ]
        }
      ]
    },
    {
      "cell_type": "code",
      "source": [
        "print(\"\\nQ3 - element at 'c':\", series1['c'])"
      ],
      "metadata": {
        "colab": {
          "base_uri": "https://localhost:8080/"
        },
        "id": "Q2hTi-wfx-Hr",
        "outputId": "14be6ecd-00ba-4552-9ca4-57ac09ea73a1"
      },
      "execution_count": null,
      "outputs": [
        {
          "output_type": "stream",
          "name": "stdout",
          "text": [
            "\n",
            "Q3 - element at 'c': 15\n"
          ]
        }
      ]
    },
    {
      "cell_type": "code",
      "source": [
        "print(\"\\n Q5 - series after adding 5:\\n\",series1 + 5)"
      ],
      "metadata": {
        "colab": {
          "base_uri": "https://localhost:8080/"
        },
        "id": "xmtMnz-hyaMi",
        "outputId": "1c550357-bc2c-4f19-b3d8-17bc46b75fdc"
      },
      "execution_count": null,
      "outputs": [
        {
          "output_type": "stream",
          "name": "stdout",
          "text": [
            "\n",
            " Q5 - series after adding 5:\n",
            " a    10\n",
            "b    15\n",
            "c    20\n",
            "d    25\n",
            "e    30\n",
            "dtype: int64\n"
          ]
        }
      ]
    },
    {
      "cell_type": "code",
      "source": [
        "import pandas as pd\n",
        "\n",
        "prices = pd.Series({'apple': 50, 'banana': 30, 'cherry': 20})\n",
        "print(\"\\nQ6 - Fruit prices:\\n\", prices)"
      ],
      "metadata": {
        "colab": {
          "base_uri": "https://localhost:8080/"
        },
        "id": "F_CxtrhxzkMS",
        "outputId": "dadc5394-df07-4532-ead1-5e5a6c0d3bd8"
      },
      "execution_count": null,
      "outputs": [
        {
          "output_type": "stream",
          "name": "stdout",
          "text": [
            "\n",
            "Q6 - Fruit prices:\n",
            " apple     50\n",
            "banana    30\n",
            "cherry    20\n",
            "dtype: int64\n"
          ]
        }
      ]
    },
    {
      "cell_type": "markdown",
      "source": [
        "# **dataframe** with **timeseries**"
      ],
      "metadata": {
        "id": "x7PVPSXJgLGA"
      }
    },
    {
      "cell_type": "code",
      "source": [
        "import pandas as pd\n",
        "\n",
        "data = {\n",
        "    'name': ['rupa', 'sita', 'geeta'],\n",
        "    'age': [25, 30, 35],\n",
        "    'city': ['bagalkot', 'solapur', 'goa']\n",
        "}\n",
        "\n",
        "df = pd.DataFrame(data)\n",
        "print(\"Initial DataFrame:\\n\", df)\n"
      ],
      "metadata": {
        "colab": {
          "base_uri": "https://localhost:8080/"
        },
        "id": "PQo2RZDzgTtg",
        "outputId": "a414127f-f237-4572-f626-9bb66342d4e4"
      },
      "execution_count": null,
      "outputs": [
        {
          "output_type": "stream",
          "name": "stdout",
          "text": [
            "Initial DataFrame:\n",
            "     name  age      city\n",
            "0   rupa   25  bagalkot\n",
            "1   sita   30   solapur\n",
            "2  geeta   35       goa\n"
          ]
        }
      ]
    },
    {
      "cell_type": "code",
      "source": [
        "age_filter=df[df['age']>30]\n",
        "print(\"\\n people with age > 30:\\n\",age_filter)"
      ],
      "metadata": {
        "colab": {
          "base_uri": "https://localhost:8080/"
        },
        "id": "bq9kppxSi0n5",
        "outputId": "7fa2b4f3-f3d5-412b-de03-64f874424d35"
      },
      "execution_count": null,
      "outputs": [
        {
          "output_type": "stream",
          "name": "stdout",
          "text": [
            "\n",
            " people with age > 30:\n",
            "     name  age city  salary\n",
            "2  geeta   35  goa   70000\n"
          ]
        }
      ]
    },
    {
      "cell_type": "code",
      "source": [
        "df['salary']=[50000,60000,70000]\n",
        "print(\"\\n dataframe with salary:\\n\",df)"
      ],
      "metadata": {
        "colab": {
          "base_uri": "https://localhost:8080/"
        },
        "id": "boBxtyDIm2Yp",
        "outputId": "2e7ebae9-923e-470b-e212-c0c54d9c4995"
      },
      "execution_count": null,
      "outputs": [
        {
          "output_type": "stream",
          "name": "stdout",
          "text": [
            "\n",
            " dataframe with salary:\n",
            "     name  age      city  salary\n",
            "0   rupa   25  bagalkot   50000\n",
            "1   sita   30   solapur   60000\n",
            "2  geeta   35       goa   70000\n"
          ]
        }
      ]
    },
    {
      "cell_type": "code",
      "source": [
        "df_sorted = df.sort_values(by='age', ascending=False)\n",
        "print(df_sorted)\n"
      ],
      "metadata": {
        "colab": {
          "base_uri": "https://localhost:8080/"
        },
        "id": "Nsz6BAGlpARI",
        "outputId": "a8ecefba-88a2-404c-a660-c2c35e390be9"
      },
      "execution_count": null,
      "outputs": [
        {
          "output_type": "stream",
          "name": "stdout",
          "text": [
            "    name  age      city  salary City\n",
            "2  geeta   35       goa   70000  NaN\n",
            "1   sita   30   solapur   60000  NaN\n",
            "0   rupa   25  bagalkot   50000  NaN\n"
          ]
        }
      ]
    },
    {
      "cell_type": "code",
      "source": [
        "df.loc[df['name'] == 'Sita', 'City'] = 'Bagalkot'\n",
        "print(df)"
      ],
      "metadata": {
        "colab": {
          "base_uri": "https://localhost:8080/"
        },
        "id": "l5zo9C1fpNBy",
        "outputId": "e4a50863-4b5a-4930-9164-386d3727f11e"
      },
      "execution_count": null,
      "outputs": [
        {
          "output_type": "stream",
          "name": "stdout",
          "text": [
            "    name  age      city  salary City\n",
            "0   rupa   25  bagalkot   50000  NaN\n",
            "1   sita   30   solapur   60000  NaN\n",
            "2  geeta   35       goa   70000  NaN\n"
          ]
        }
      ]
    },
    {
      "cell_type": "code",
      "source": [
        "df = df.drop('City', axis=1)\n",
        "print(df)"
      ],
      "metadata": {
        "colab": {
          "base_uri": "https://localhost:8080/"
        },
        "id": "fMj49HEjpkVx",
        "outputId": "e8a7e704-859f-4967-91c9-d05fe689da99"
      },
      "execution_count": null,
      "outputs": [
        {
          "output_type": "stream",
          "name": "stdout",
          "text": [
            "    name  age      city  salary\n",
            "0   rupa   25  bagalkot   50000\n",
            "1   sita   30   solapur   60000\n",
            "2  geeta   35       goa   70000\n"
          ]
        }
      ]
    },
    {
      "cell_type": "code",
      "source": [
        "average_age = df['age'].mean()\n",
        "print(\"Average Age:\", average_age)"
      ],
      "metadata": {
        "colab": {
          "base_uri": "https://localhost:8080/"
        },
        "id": "dqjoNo-hprZA",
        "outputId": "52e2db80-51e0-46cc-cf90-8fcc34c29271"
      },
      "execution_count": null,
      "outputs": [
        {
          "output_type": "stream",
          "name": "stdout",
          "text": [
            "Average Age: 30.0\n"
          ]
        }
      ]
    },
    {
      "cell_type": "code",
      "source": [
        "is_bagalkot_present = (df['city'] == 'Bagalkot').any()\n",
        "print(\"Is anyone from Bagalkot?\", is_bagalkot_present)"
      ],
      "metadata": {
        "colab": {
          "base_uri": "https://localhost:8080/"
        },
        "id": "2rACAy_Wpwew",
        "outputId": "79f33b9e-8047-4bd5-a1fa-8ef55bbdc42a"
      },
      "execution_count": null,
      "outputs": [
        {
          "output_type": "stream",
          "name": "stdout",
          "text": [
            "Is anyone from Bagalkot? True\n"
          ]
        }
      ]
    },
    {
      "cell_type": "code",
      "source": [
        "df['city'] = ['Bagalkot', 'Bagalkot', 'Gulbarga']\n",
        "is_bagalkot_present = (df['city'] == 'Bagalkot').any()\n",
        "print(\"Is anyone from Bagalkot?\", is_bagalkot_present)"
      ],
      "metadata": {
        "colab": {
          "base_uri": "https://localhost:8080/"
        },
        "id": "GRH9xDtJp2yA",
        "outputId": "9469fe39-b0de-410d-aff4-f4151bd38ca2"
      },
      "execution_count": null,
      "outputs": [
        {
          "output_type": "stream",
          "name": "stdout",
          "text": [
            "Is anyone from Bagalkot? True\n"
          ]
        }
      ]
    },
    {
      "cell_type": "code",
      "source": [
        "sita_info = df[ df['name'] == 'sita']\n",
        "print(sita_info)"
      ],
      "metadata": {
        "colab": {
          "base_uri": "https://localhost:8080/",
          "height": 159
        },
        "id": "yNfK1p6Wp6ZQ",
        "outputId": "67ea7e83-d593-4521-a289-59f7bcefc760"
      },
      "execution_count": null,
      "outputs": [
        {
          "output_type": "error",
          "ename": "NameError",
          "evalue": "name 'df' is not defined",
          "traceback": [
            "\u001b[0;31m---------------------------------------------------------------------------\u001b[0m",
            "\u001b[0;31mNameError\u001b[0m                                 Traceback (most recent call last)",
            "\u001b[0;32m/tmp/ipython-input-13-1463235808.py\u001b[0m in \u001b[0;36m<cell line: 0>\u001b[0;34m()\u001b[0m\n\u001b[0;32m----> 1\u001b[0;31m \u001b[0msita_info\u001b[0m \u001b[0;34m=\u001b[0m \u001b[0mdf\u001b[0m\u001b[0;34m[\u001b[0m \u001b[0mdf\u001b[0m\u001b[0;34m[\u001b[0m\u001b[0;34m'name'\u001b[0m\u001b[0;34m]\u001b[0m \u001b[0;34m==\u001b[0m \u001b[0;34m'sita'\u001b[0m\u001b[0;34m]\u001b[0m\u001b[0;34m\u001b[0m\u001b[0;34m\u001b[0m\u001b[0m\n\u001b[0m\u001b[1;32m      2\u001b[0m \u001b[0mprint\u001b[0m\u001b[0;34m(\u001b[0m\u001b[0msita_info\u001b[0m\u001b[0;34m)\u001b[0m\u001b[0;34m\u001b[0m\u001b[0;34m\u001b[0m\u001b[0m\n",
            "\u001b[0;31mNameError\u001b[0m: name 'df' is not defined"
          ]
        }
      ]
    },
    {
      "cell_type": "code",
      "source": [
        "df['city'] = ['Bagalkot', 'Bagalkot', 'Gulbarga']"
      ],
      "metadata": {
        "id": "uFGgvEerp-WC"
      },
      "execution_count": null,
      "outputs": []
    },
    {
      "cell_type": "code",
      "metadata": {
        "id": "d65e7528"
      },
      "source": [
        "import pandas as pd\n",
        "\n",
        "data = {\n",
        "    'name': ['rupa', 'sita', 'geeta'],\n",
        "    'age': [25, 30, 35],\n",
        "    'city': ['bagalkot', 'solapur', 'goa']\n",
        "}\n",
        "\n",
        "df = pd.DataFrame(data)\n",
        "print(\"Initial DataFrame:\\n\", df)"
      ],
      "execution_count": null,
      "outputs": []
    },
    {
      "cell_type": "code",
      "metadata": {
        "colab": {
          "base_uri": "https://localhost:8080/",
          "height": 159
        },
        "id": "26acf1cd",
        "outputId": "de74ce97-c760-4543-b8d7-4e66289f4aa4"
      },
      "source": [
        "sita_info = df[ df['name'] == 'sita']\n",
        "print(sita_info)"
      ],
      "execution_count": null,
      "outputs": [
        {
          "output_type": "error",
          "ename": "NameError",
          "evalue": "name 'df' is not defined",
          "traceback": [
            "\u001b[0;31m---------------------------------------------------------------------------\u001b[0m",
            "\u001b[0;31mNameError\u001b[0m                                 Traceback (most recent call last)",
            "\u001b[0;32m/tmp/ipython-input-15-1463235808.py\u001b[0m in \u001b[0;36m<cell line: 0>\u001b[0;34m()\u001b[0m\n\u001b[0;32m----> 1\u001b[0;31m \u001b[0msita_info\u001b[0m \u001b[0;34m=\u001b[0m \u001b[0mdf\u001b[0m\u001b[0;34m[\u001b[0m \u001b[0mdf\u001b[0m\u001b[0;34m[\u001b[0m\u001b[0;34m'name'\u001b[0m\u001b[0;34m]\u001b[0m \u001b[0;34m==\u001b[0m \u001b[0;34m'sita'\u001b[0m\u001b[0;34m]\u001b[0m\u001b[0;34m\u001b[0m\u001b[0;34m\u001b[0m\u001b[0m\n\u001b[0m\u001b[1;32m      2\u001b[0m \u001b[0mprint\u001b[0m\u001b[0;34m(\u001b[0m\u001b[0msita_info\u001b[0m\u001b[0;34m)\u001b[0m\u001b[0;34m\u001b[0m\u001b[0;34m\u001b[0m\u001b[0m\n",
            "\u001b[0;31mNameError\u001b[0m: name 'df' is not defined"
          ]
        }
      ]
    },
    {
      "cell_type": "markdown",
      "source": [
        "***week 3***"
      ],
      "metadata": {
        "id": "wzNX9vxrsTNR"
      }
    },
    {
      "cell_type": "code",
      "source": [
        "import numpy as np\n",
        "\n",
        "arr = np.array([1, 2, 3, 4])\n",
        "print(arr.sum())"
      ],
      "metadata": {
        "colab": {
          "base_uri": "https://localhost:8080/"
        },
        "id": "t5geQfUusw8R",
        "outputId": "1cfe795c-bb9b-4615-85eb-14688b75cc37"
      },
      "execution_count": null,
      "outputs": [
        {
          "output_type": "stream",
          "name": "stdout",
          "text": [
            "10\n"
          ]
        }
      ]
    },
    {
      "cell_type": "code",
      "source": [
        "import numpy as np\n",
        "\n",
        "arr = np.array([1, 2, 3, 4])\n",
        "print(arr.sum())\n",
        "print(arr.mean())\n",
        "print(arr.min())\n",
        "print(arr.max())"
      ],
      "metadata": {
        "colab": {
          "base_uri": "https://localhost:8080/"
        },
        "id": "O4QQ-mEhvEKR",
        "outputId": "1b9cb685-efd0-4d4c-8824-132cb3c68080"
      },
      "execution_count": null,
      "outputs": [
        {
          "output_type": "stream",
          "name": "stdout",
          "text": [
            "10\n",
            "2.5\n",
            "1\n",
            "4\n"
          ]
        }
      ]
    },
    {
      "cell_type": "code",
      "source": [
        "import numpy as np\n",
        "import random\n",
        "array = np.random.randint(16,size=(4,4))\n",
        "print(\"Input Array: \\n\",array)\n",
        "print(\"largest number in x axis: \",np.max(array,axis=1))\n",
        "print(\"largest number in y axis: \",np.max(array,axis=0))"
      ],
      "metadata": {
        "colab": {
          "base_uri": "https://localhost:8080/"
        },
        "id": "QCNbG2JwvKgJ",
        "outputId": "384827b3-ef4c-4ade-f282-060d18ab5db0"
      },
      "execution_count": null,
      "outputs": [
        {
          "output_type": "stream",
          "name": "stdout",
          "text": [
            "Input Array: \n",
            " [[ 5  0  4  8]\n",
            " [ 4  1  7  2]\n",
            " [12 10  3  2]\n",
            " [10  9  7  6]]\n",
            "largest number in x axis:  [ 8  7 12 10]\n",
            "largest number in y axis:  [12 10  7  8]\n"
          ]
        }
      ]
    },
    {
      "cell_type": "code",
      "source": [
        "import numpy as np\n",
        "import random\n",
        "array = np.random.randint(16, size=(4, 4))\n",
        "print(\"Input Array:\\n\", array)\n",
        "print(\"Smallest number in each row (X-axis):\", np.min(array, axis=1))\n",
        "print(\"Smallest number in each column (Y-axis):\", np.min(array, axis=0))\n",
        "print(arr.std())"
      ],
      "metadata": {
        "colab": {
          "base_uri": "https://localhost:8080/"
        },
        "id": "vmUIZDMnvOfY",
        "outputId": "6ac04418-752c-40dc-e2e5-37f936f26afb"
      },
      "execution_count": null,
      "outputs": [
        {
          "output_type": "stream",
          "name": "stdout",
          "text": [
            "Input Array:\n",
            " [[ 5  4 15  9]\n",
            " [ 5  6  5  9]\n",
            " [ 5 14  2  4]\n",
            " [10  3 15  9]]\n",
            "Smallest number in each row (X-axis): [4 5 2 3]\n",
            "Smallest number in each column (Y-axis): [5 3 2 4]\n",
            "1.118033988749895\n"
          ]
        }
      ]
    },
    {
      "cell_type": "code",
      "source": [
        "arr = np.array([1, 2, 3])\n",
        "print(arr + 2)\n",
        "print(np.sin(arr))"
      ],
      "metadata": {
        "colab": {
          "base_uri": "https://localhost:8080/"
        },
        "id": "W1wjyWkovR_Z",
        "outputId": "76ea9936-1309-487b-bb9c-09eace9923aa"
      },
      "execution_count": null,
      "outputs": [
        {
          "output_type": "stream",
          "name": "stdout",
          "text": [
            "[3 4 5]\n",
            "[0.84147098 0.90929743 0.14112001]\n"
          ]
        }
      ]
    },
    {
      "cell_type": "code",
      "source": [
        "arr = np.array([1, 2, 3])\n",
        "arr2 = np.array([1, 2, 3])\n",
        "print(arr + arr2)"
      ],
      "metadata": {
        "colab": {
          "base_uri": "https://localhost:8080/"
        },
        "id": "JqnQnjogvTNp",
        "outputId": "f2af03ce-7a65-4993-f23d-48ffaad7f863"
      },
      "execution_count": null,
      "outputs": [
        {
          "output_type": "stream",
          "name": "stdout",
          "text": [
            "[2 4 6]\n"
          ]
        }
      ]
    },
    {
      "cell_type": "code",
      "source": [
        "squared = list(map(lambda x: x**2, arr))\n",
        "print(\"Squared using map:\", squared)"
      ],
      "metadata": {
        "colab": {
          "base_uri": "https://localhost:8080/"
        },
        "id": "8hCncgVNvWah",
        "outputId": "f7928959-20a6-4450-c03e-f6f30237d1eb"
      },
      "execution_count": null,
      "outputs": [
        {
          "output_type": "stream",
          "name": "stdout",
          "text": [
            "Squared using map: [np.int64(1), np.int64(4), np.int64(9)]\n"
          ]
        }
      ]
    },
    {
      "cell_type": "code",
      "source": [
        "def square(number):\n",
        "    return number * number"
      ],
      "metadata": {
        "id": "xD339w7DvdLx"
      },
      "execution_count": null,
      "outputs": []
    },
    {
      "cell_type": "code",
      "source": [
        "nums = [1, 2, 3, 4]\n",
        "squared_numbers = list(map(square, nums))\n",
        "print(squared_numbers)"
      ],
      "metadata": {
        "colab": {
          "base_uri": "https://localhost:8080/"
        },
        "id": "p6yvJOVqvgni",
        "outputId": "995df353-3244-4864-a3df-b19201b6b898"
      },
      "execution_count": null,
      "outputs": [
        {
          "output_type": "stream",
          "name": "stdout",
          "text": [
            "[1, 4, 9, 16]\n"
          ]
        }
      ]
    },
    {
      "cell_type": "code",
      "source": [
        "nums1 = [1, 2, 3, 4, 5, 6]\n",
        "squareOfnums1 = list(map(lambda n: n * n, nums1))\n",
        "print(squareOfnums1)"
      ],
      "metadata": {
        "colab": {
          "base_uri": "https://localhost:8080/"
        },
        "id": "ce4FK1covh4D",
        "outputId": "5855405a-f881-461e-b6e3-b37fa6701842"
      },
      "execution_count": null,
      "outputs": [
        {
          "output_type": "stream",
          "name": "stdout",
          "text": [
            "[1, 4, 9, 16, 25, 36]\n"
          ]
        }
      ]
    },
    {
      "cell_type": "code",
      "source": [
        "def is_even(n):\n",
        "    if n % 2 == 0:\n",
        "        return True\n",
        "    else:\n",
        "        return False"
      ],
      "metadata": {
        "id": "juarav1Fvqww"
      },
      "execution_count": null,
      "outputs": []
    },
    {
      "cell_type": "code",
      "source": [
        "nums = [1, 2, 3, 4]\n",
        "evens = list(filter(is_even, nums))\n",
        "print(evens)"
      ],
      "metadata": {
        "colab": {
          "base_uri": "https://localhost:8080/"
        },
        "id": "U8RtxSiEvzQp",
        "outputId": "58b8053e-3eee-4b96-fd31-d9ee6437164f"
      },
      "execution_count": null,
      "outputs": [
        {
          "output_type": "stream",
          "name": "stdout",
          "text": [
            "[2, 4]\n"
          ]
        }
      ]
    },
    {
      "cell_type": "code",
      "source": [
        "even = list(filter(lambda x: x % 2 == 0, arr))\n",
        "print(\"Even numbers:\", even)"
      ],
      "metadata": {
        "colab": {
          "base_uri": "https://localhost:8080/"
        },
        "id": "TbC2G7Pvv0Jo",
        "outputId": "39fa31e1-4edf-4900-b63c-de940ecee384"
      },
      "execution_count": null,
      "outputs": [
        {
          "output_type": "stream",
          "name": "stdout",
          "text": [
            "Even numbers: [np.int64(2)]\n"
          ]
        }
      ]
    },
    {
      "cell_type": "code",
      "source": [
        "from functools import reduce\n",
        "\n",
        "def sum_all(a, b):\n",
        "    return a + b"
      ],
      "metadata": {
        "id": "QR7Bedzbv56Z"
      },
      "execution_count": null,
      "outputs": []
    },
    {
      "cell_type": "code",
      "source": [
        "nums = [1, 2, 3, 4]\n",
        "total_sum = reduce(sum_all, nums)\n",
        "print(total_sum)"
      ],
      "metadata": {
        "colab": {
          "base_uri": "https://localhost:8080/"
        },
        "id": "uy7Qf_js1hIB",
        "outputId": "a2ed0c3f-b451-4606-ee90-3694f6377971"
      },
      "execution_count": null,
      "outputs": [
        {
          "output_type": "stream",
          "name": "stdout",
          "text": [
            "10\n"
          ]
        }
      ]
    },
    {
      "cell_type": "code",
      "source": [
        "from functools import reduce\n",
        "total = reduce(lambda x, y: x + y, arr)\n",
        "print(\"Sum using reduce:\", total)"
      ],
      "metadata": {
        "colab": {
          "base_uri": "https://localhost:8080/"
        },
        "id": "tj3B_H_E1lfY",
        "outputId": "9bf88d70-0ac7-4369-f864-cfa424605068"
      },
      "execution_count": null,
      "outputs": [
        {
          "output_type": "stream",
          "name": "stdout",
          "text": [
            "Sum using reduce: 6\n"
          ]
        }
      ]
    },
    {
      "cell_type": "code",
      "source": [
        "nums = [1,2,3,4]\n",
        "evens = list(filter(lambda n:n%2==0,nums))\n",
        "print(evens)"
      ],
      "metadata": {
        "colab": {
          "base_uri": "https://localhost:8080/"
        },
        "id": "GNkFV5lS1nwn",
        "outputId": "a304c58a-bce3-44f9-d1d0-d6a5107c4e57"
      },
      "execution_count": null,
      "outputs": [
        {
          "output_type": "stream",
          "name": "stdout",
          "text": [
            "[2, 4]\n"
          ]
        }
      ]
    },
    {
      "cell_type": "code",
      "source": [
        "import pandas as pd\n",
        "\n",
        "data = {\n",
        "    'Name': ['Alice', 'Bob', 'Charlie'],\n",
        "    'Age': [25, 30, 35],\n",
        "    'City': ['Delhi', 'Mumbai', 'Bangalore']\n",
        "}\n",
        "df = pd.DataFrame(data)\n",
        "print(\"Initial DataFrame:\\n\", df)\n",
        "\n",
        "from google.colab import files\n",
        "uploaded = files.upload()\n",
        "\n",
        "import io\n",
        "filename = list(uploaded.keys())[0]\n",
        "\n",
        "\n",
        "df_read = pd.read_excel(io.BytesIO(uploaded[filename]))\n",
        "print(\"\\nRead from Excel:\\n\", df_read)\n",
        "\n",
        "df.to_csv('output.csv', index=False)\n",
        "print(\"\\nSaved DataFrame to 'output.csv'\")"
      ],
      "metadata": {
        "colab": {
          "base_uri": "https://localhost:8080/",
          "height": 298
        },
        "id": "GFxN9NaT1q4A",
        "outputId": "0860fd2b-d907-4915-b4ff-f1241112c06e"
      },
      "execution_count": null,
      "outputs": [
        {
          "output_type": "stream",
          "name": "stdout",
          "text": [
            "Initial DataFrame:\n",
            "       Name  Age       City\n",
            "0    Alice   25      Delhi\n",
            "1      Bob   30     Mumbai\n",
            "2  Charlie   35  Bangalore\n"
          ]
        },
        {
          "output_type": "display_data",
          "data": {
            "text/plain": [
              "<IPython.core.display.HTML object>"
            ],
            "text/html": [
              "\n",
              "     <input type=\"file\" id=\"files-67419129-20b7-4dfb-8acd-b4d240c341ab\" name=\"files[]\" multiple disabled\n",
              "        style=\"border:none\" />\n",
              "     <output id=\"result-67419129-20b7-4dfb-8acd-b4d240c341ab\">\n",
              "      Upload widget is only available when the cell has been executed in the\n",
              "      current browser session. Please rerun this cell to enable.\n",
              "      </output>\n",
              "      <script>// Copyright 2017 Google LLC\n",
              "//\n",
              "// Licensed under the Apache License, Version 2.0 (the \"License\");\n",
              "// you may not use this file except in compliance with the License.\n",
              "// You may obtain a copy of the License at\n",
              "//\n",
              "//      http://www.apache.org/licenses/LICENSE-2.0\n",
              "//\n",
              "// Unless required by applicable law or agreed to in writing, software\n",
              "// distributed under the License is distributed on an \"AS IS\" BASIS,\n",
              "// WITHOUT WARRANTIES OR CONDITIONS OF ANY KIND, either express or implied.\n",
              "// See the License for the specific language governing permissions and\n",
              "// limitations under the License.\n",
              "\n",
              "/**\n",
              " * @fileoverview Helpers for google.colab Python module.\n",
              " */\n",
              "(function(scope) {\n",
              "function span(text, styleAttributes = {}) {\n",
              "  const element = document.createElement('span');\n",
              "  element.textContent = text;\n",
              "  for (const key of Object.keys(styleAttributes)) {\n",
              "    element.style[key] = styleAttributes[key];\n",
              "  }\n",
              "  return element;\n",
              "}\n",
              "\n",
              "// Max number of bytes which will be uploaded at a time.\n",
              "const MAX_PAYLOAD_SIZE = 100 * 1024;\n",
              "\n",
              "function _uploadFiles(inputId, outputId) {\n",
              "  const steps = uploadFilesStep(inputId, outputId);\n",
              "  const outputElement = document.getElementById(outputId);\n",
              "  // Cache steps on the outputElement to make it available for the next call\n",
              "  // to uploadFilesContinue from Python.\n",
              "  outputElement.steps = steps;\n",
              "\n",
              "  return _uploadFilesContinue(outputId);\n",
              "}\n",
              "\n",
              "// This is roughly an async generator (not supported in the browser yet),\n",
              "// where there are multiple asynchronous steps and the Python side is going\n",
              "// to poll for completion of each step.\n",
              "// This uses a Promise to block the python side on completion of each step,\n",
              "// then passes the result of the previous step as the input to the next step.\n",
              "function _uploadFilesContinue(outputId) {\n",
              "  const outputElement = document.getElementById(outputId);\n",
              "  const steps = outputElement.steps;\n",
              "\n",
              "  const next = steps.next(outputElement.lastPromiseValue);\n",
              "  return Promise.resolve(next.value.promise).then((value) => {\n",
              "    // Cache the last promise value to make it available to the next\n",
              "    // step of the generator.\n",
              "    outputElement.lastPromiseValue = value;\n",
              "    return next.value.response;\n",
              "  });\n",
              "}\n",
              "\n",
              "/**\n",
              " * Generator function which is called between each async step of the upload\n",
              " * process.\n",
              " * @param {string} inputId Element ID of the input file picker element.\n",
              " * @param {string} outputId Element ID of the output display.\n",
              " * @return {!Iterable<!Object>} Iterable of next steps.\n",
              " */\n",
              "function* uploadFilesStep(inputId, outputId) {\n",
              "  const inputElement = document.getElementById(inputId);\n",
              "  inputElement.disabled = false;\n",
              "\n",
              "  const outputElement = document.getElementById(outputId);\n",
              "  outputElement.innerHTML = '';\n",
              "\n",
              "  const pickedPromise = new Promise((resolve) => {\n",
              "    inputElement.addEventListener('change', (e) => {\n",
              "      resolve(e.target.files);\n",
              "    });\n",
              "  });\n",
              "\n",
              "  const cancel = document.createElement('button');\n",
              "  inputElement.parentElement.appendChild(cancel);\n",
              "  cancel.textContent = 'Cancel upload';\n",
              "  const cancelPromise = new Promise((resolve) => {\n",
              "    cancel.onclick = () => {\n",
              "      resolve(null);\n",
              "    };\n",
              "  });\n",
              "\n",
              "  // Wait for the user to pick the files.\n",
              "  const files = yield {\n",
              "    promise: Promise.race([pickedPromise, cancelPromise]),\n",
              "    response: {\n",
              "      action: 'starting',\n",
              "    }\n",
              "  };\n",
              "\n",
              "  cancel.remove();\n",
              "\n",
              "  // Disable the input element since further picks are not allowed.\n",
              "  inputElement.disabled = true;\n",
              "\n",
              "  if (!files) {\n",
              "    return {\n",
              "      response: {\n",
              "        action: 'complete',\n",
              "      }\n",
              "    };\n",
              "  }\n",
              "\n",
              "  for (const file of files) {\n",
              "    const li = document.createElement('li');\n",
              "    li.append(span(file.name, {fontWeight: 'bold'}));\n",
              "    li.append(span(\n",
              "        `(${file.type || 'n/a'}) - ${file.size} bytes, ` +\n",
              "        `last modified: ${\n",
              "            file.lastModifiedDate ? file.lastModifiedDate.toLocaleDateString() :\n",
              "                                    'n/a'} - `));\n",
              "    const percent = span('0% done');\n",
              "    li.appendChild(percent);\n",
              "\n",
              "    outputElement.appendChild(li);\n",
              "\n",
              "    const fileDataPromise = new Promise((resolve) => {\n",
              "      const reader = new FileReader();\n",
              "      reader.onload = (e) => {\n",
              "        resolve(e.target.result);\n",
              "      };\n",
              "      reader.readAsArrayBuffer(file);\n",
              "    });\n",
              "    // Wait for the data to be ready.\n",
              "    let fileData = yield {\n",
              "      promise: fileDataPromise,\n",
              "      response: {\n",
              "        action: 'continue',\n",
              "      }\n",
              "    };\n",
              "\n",
              "    // Use a chunked sending to avoid message size limits. See b/62115660.\n",
              "    let position = 0;\n",
              "    do {\n",
              "      const length = Math.min(fileData.byteLength - position, MAX_PAYLOAD_SIZE);\n",
              "      const chunk = new Uint8Array(fileData, position, length);\n",
              "      position += length;\n",
              "\n",
              "      const base64 = btoa(String.fromCharCode.apply(null, chunk));\n",
              "      yield {\n",
              "        response: {\n",
              "          action: 'append',\n",
              "          file: file.name,\n",
              "          data: base64,\n",
              "        },\n",
              "      };\n",
              "\n",
              "      let percentDone = fileData.byteLength === 0 ?\n",
              "          100 :\n",
              "          Math.round((position / fileData.byteLength) * 100);\n",
              "      percent.textContent = `${percentDone}% done`;\n",
              "\n",
              "    } while (position < fileData.byteLength);\n",
              "  }\n",
              "\n",
              "  // All done.\n",
              "  yield {\n",
              "    response: {\n",
              "      action: 'complete',\n",
              "    }\n",
              "  };\n",
              "}\n",
              "\n",
              "scope.google = scope.google || {};\n",
              "scope.google.colab = scope.google.colab || {};\n",
              "scope.google.colab._files = {\n",
              "  _uploadFiles,\n",
              "  _uploadFilesContinue,\n",
              "};\n",
              "})(self);\n",
              "</script> "
            ]
          },
          "metadata": {}
        },
        {
          "output_type": "stream",
          "name": "stdout",
          "text": [
            "Saving data.csv.xlsx to data.csv.xlsx\n",
            "\n",
            "Read from Excel:\n",
            "    Unnamed: 0  calories  duration\n",
            "0           0       420        50\n",
            "1           1       380        40\n",
            "2           2       390        45\n",
            "\n",
            "Saved DataFrame to 'output.csv'\n"
          ]
        }
      ]
    },
    {
      "cell_type": "code",
      "source": [
        "import pandas as pd\n",
        "lst = ['Apple', 'Mango', 'Banana', 'Pine Apple', 'Grapes', 'Watermelon']\n",
        "df = pd.DataFrame(lst)\n",
        "print(df)"
      ],
      "metadata": {
        "id": "7Jj2EG931t3Q",
        "colab": {
          "base_uri": "https://localhost:8080/"
        },
        "outputId": "42a801ac-8c1b-436a-86ba-5f8ad0115430"
      },
      "execution_count": null,
      "outputs": [
        {
          "output_type": "stream",
          "name": "stdout",
          "text": [
            "            0\n",
            "0       Apple\n",
            "1       Mango\n",
            "2      Banana\n",
            "3  Pine Apple\n",
            "4      Grapes\n",
            "5  Watermelon\n"
          ]
        }
      ]
    },
    {
      "cell_type": "code",
      "source": [
        "import pandas as pd\n",
        "\n",
        "data = {\n",
        "    'Name': ['Tom', 'nick', 'krish', 'jack'],\n",
        "    'Age': [20, 21, 19, 18]\n",
        "}\n",
        "\n",
        "df = pd.DataFrame(data)\n",
        "print(\"Created DataFrame:\\n\", df)\n",
        "\n",
        "df.to_csv('sample_data.csv', index=False)\n",
        "print(\"\\nDataFrame written to 'sample_data.csv'\")\n",
        "\n",
        "from google.colab import files\n",
        "files.download('sample_data.csv')\n"
      ],
      "metadata": {
        "id": "z-y8fKSi1xeY",
        "colab": {
          "base_uri": "https://localhost:8080/",
          "height": 156
        },
        "outputId": "e84c038c-3d3a-4bb9-905f-2d5296b1c32c"
      },
      "execution_count": null,
      "outputs": [
        {
          "output_type": "stream",
          "name": "stdout",
          "text": [
            "Created DataFrame:\n",
            "     Name  Age\n",
            "0    Tom   20\n",
            "1   nick   21\n",
            "2  krish   19\n",
            "3   jack   18\n",
            "\n",
            "DataFrame written to 'sample_data.csv'\n"
          ]
        },
        {
          "output_type": "display_data",
          "data": {
            "text/plain": [
              "<IPython.core.display.Javascript object>"
            ],
            "application/javascript": [
              "\n",
              "    async function download(id, filename, size) {\n",
              "      if (!google.colab.kernel.accessAllowed) {\n",
              "        return;\n",
              "      }\n",
              "      const div = document.createElement('div');\n",
              "      const label = document.createElement('label');\n",
              "      label.textContent = `Downloading \"${filename}\": `;\n",
              "      div.appendChild(label);\n",
              "      const progress = document.createElement('progress');\n",
              "      progress.max = size;\n",
              "      div.appendChild(progress);\n",
              "      document.body.appendChild(div);\n",
              "\n",
              "      const buffers = [];\n",
              "      let downloaded = 0;\n",
              "\n",
              "      const channel = await google.colab.kernel.comms.open(id);\n",
              "      // Send a message to notify the kernel that we're ready.\n",
              "      channel.send({})\n",
              "\n",
              "      for await (const message of channel.messages) {\n",
              "        // Send a message to notify the kernel that we're ready.\n",
              "        channel.send({})\n",
              "        if (message.buffers) {\n",
              "          for (const buffer of message.buffers) {\n",
              "            buffers.push(buffer);\n",
              "            downloaded += buffer.byteLength;\n",
              "            progress.value = downloaded;\n",
              "          }\n",
              "        }\n",
              "      }\n",
              "      const blob = new Blob(buffers, {type: 'application/binary'});\n",
              "      const a = document.createElement('a');\n",
              "      a.href = window.URL.createObjectURL(blob);\n",
              "      a.download = filename;\n",
              "      div.appendChild(a);\n",
              "      a.click();\n",
              "      div.remove();\n",
              "    }\n",
              "  "
            ]
          },
          "metadata": {}
        },
        {
          "output_type": "display_data",
          "data": {
            "text/plain": [
              "<IPython.core.display.Javascript object>"
            ],
            "application/javascript": [
              "download(\"download_866475e8-21d5-4397-b9f6-ec98b251dd6f\", \"sample_data.csv\", 41)"
            ]
          },
          "metadata": {}
        }
      ]
    },
    {
      "cell_type": "code",
      "source": [
        "import pandas as pd\n",
        "data = {\n",
        "    'Department': ['HR', 'HR', 'IT', 'IT', 'Finance', 'Finance'],\n",
        "    'Employee': ['Alice', 'Bob', 'Charlie', 'David', 'Eva', 'Frank'],\n",
        "    'Salary': [50000, 55000, 60000, 65000, 70000, 72000],\n",
        "    'Age': [25, 30, 28, 32, 40, 38]\n",
        "}\n",
        "df = pd.DataFrame(data)\n",
        "print(df)\n",
        "\n",
        "grouped = df.groupby('Department')['Salary'].mean()\n",
        "print(grouped)\n",
        "\n",
        "grouped = df.groupby('Department')['Salary'].agg(['mean', 'max', 'min'])\n",
        "print(grouped)\n",
        "\n",
        "result = df.groupby('Department').agg({\n",
        "    'Salary': 'mean',\n",
        "    'Age': ['min', 'max']\n",
        "})\n",
        "print(result)"
      ],
      "metadata": {
        "id": "HXU9vVUQ12DJ",
        "colab": {
          "base_uri": "https://localhost:8080/"
        },
        "outputId": "3daf91b1-0d8d-4ae8-ae03-b946d739ff47"
      },
      "execution_count": null,
      "outputs": [
        {
          "output_type": "stream",
          "name": "stdout",
          "text": [
            "  Department Employee  Salary  Age\n",
            "0         HR    Alice   50000   25\n",
            "1         HR      Bob   55000   30\n",
            "2         IT  Charlie   60000   28\n",
            "3         IT    David   65000   32\n",
            "4    Finance      Eva   70000   40\n",
            "5    Finance    Frank   72000   38\n",
            "Department\n",
            "Finance    71000.0\n",
            "HR         52500.0\n",
            "IT         62500.0\n",
            "Name: Salary, dtype: float64\n",
            "               mean    max    min\n",
            "Department                       \n",
            "Finance     71000.0  72000  70000\n",
            "HR          52500.0  55000  50000\n",
            "IT          62500.0  65000  60000\n",
            "             Salary Age    \n",
            "               mean min max\n",
            "Department                 \n",
            "Finance     71000.0  38  40\n",
            "HR          52500.0  25  30\n",
            "IT          62500.0  28  32\n"
          ]
        }
      ]
    },
    {
      "cell_type": "code",
      "source": [
        "import pandas as pd\n",
        "d1 = {\"Name\": [\"Pankaj\", \"Lisa\", \"David\"], \"ID\": [1, 2, 3], \"Role\": [\"CEO\", \"Editor\", \"Author\"]}\n",
        "df = pd.DataFrame(d1)\n",
        "print(df)\n",
        "df_melted = pd.melt(df, id_vars=[\"ID\"],\n",
        "value_vars=[\"Name\", \"Role\"])\n",
        "print(df_melted)"
      ],
      "metadata": {
        "colab": {
          "base_uri": "https://localhost:8080/"
        },
        "id": "KRQVipJM8ZYZ",
        "outputId": "f1facfcc-140e-4df5-c808-90928980a0b7"
      },
      "execution_count": null,
      "outputs": [
        {
          "output_type": "stream",
          "name": "stdout",
          "text": [
            "     Name  ID    Role\n",
            "0  Pankaj   1     CEO\n",
            "1    Lisa   2  Editor\n",
            "2   David   3  Author\n",
            "   ID variable   value\n",
            "0   1     Name  Pankaj\n",
            "1   2     Name    Lisa\n",
            "2   3     Name   David\n",
            "3   1     Role     CEO\n",
            "4   2     Role  Editor\n",
            "5   3     Role  Author\n"
          ]
        }
      ]
    },
    {
      "cell_type": "code",
      "source": [
        "import pandas as pd\n",
        "data = {\n",
        "    'Date': ['2024-01-01', '2024-01-01', '2024-01-02', '2024-01-02'],\n",
        "    'City': ['Mumbai', 'Delhi', 'Mumbai', 'Delhi'],\n",
        "    'Temperature': [33, 28, 34, 27]\n",
        "}\n",
        "df = pd.DataFrame(data)\n",
        "print(\"Original:\\n\", df)\n",
        "\n",
        "pivoted = df.pivot(index='Date', columns='City', values='Temperature')\n",
        "print(\"\\nPivoted:\\n\", pivoted)"
      ],
      "metadata": {
        "colab": {
          "base_uri": "https://localhost:8080/"
        },
        "id": "1X-kg5F98cqb",
        "outputId": "1a442299-1521-4072-d92c-a124c401acad"
      },
      "execution_count": null,
      "outputs": [
        {
          "output_type": "stream",
          "name": "stdout",
          "text": [
            "Original:\n",
            "          Date    City  Temperature\n",
            "0  2024-01-01  Mumbai           33\n",
            "1  2024-01-01   Delhi           28\n",
            "2  2024-01-02  Mumbai           34\n",
            "3  2024-01-02   Delhi           27\n",
            "\n",
            "Pivoted:\n",
            " City        Delhi  Mumbai\n",
            "Date                     \n",
            "2024-01-01     28      33\n",
            "2024-01-02     27      34\n"
          ]
        }
      ]
    },
    {
      "cell_type": "code",
      "source": [
        "import pandas as pd\n",
        "\n",
        "data = {\n",
        "    'Student': ['Alice', 'Bob', 'Charlie'],\n",
        "    'Math': [85, 90, 78],\n",
        "    'Science': [92, 88, 85],\n",
        "    'English': [75, 80, 72]\n",
        "}\n",
        "df = pd.DataFrame(data)\n",
        "print(\"Original Wide DataFrame:\\n\", df)\n",
        "\n",
        "melted_df = pd.melt(df,\n",
        "                    id_vars=['Student'],\n",
        "                    var_name='Subject',\n",
        "                    value_name='Marks')\n",
        "print(\"\\nMelted Long DataFrame:\\n\", melted_df)"
      ],
      "metadata": {
        "colab": {
          "base_uri": "https://localhost:8080/"
        },
        "id": "D042i_fn8esL",
        "outputId": "06babd65-33af-4e3a-c664-86d0b860f312"
      },
      "execution_count": null,
      "outputs": [
        {
          "output_type": "stream",
          "name": "stdout",
          "text": [
            "Original Wide DataFrame:\n",
            "    Student  Math  Science  English\n",
            "0    Alice    85       92       75\n",
            "1      Bob    90       88       80\n",
            "2  Charlie    78       85       72\n",
            "\n",
            "Melted Long DataFrame:\n",
            "    Student  Subject  Marks\n",
            "0    Alice     Math     85\n",
            "1      Bob     Math     90\n",
            "2  Charlie     Math     78\n",
            "3    Alice  Science     92\n",
            "4      Bob  Science     88\n",
            "5  Charlie  Science     85\n",
            "6    Alice  English     75\n",
            "7      Bob  English     80\n",
            "8  Charlie  English     72\n"
          ]
        }
      ]
    },
    {
      "cell_type": "code",
      "source": [
        "import pandas as pd\n",
        "import numpy as np\n",
        "dates = pd.date_range(start='2024-01-01', periods=10, freq='D')\n",
        "print(\"Generated Date Range:\\n\", dates)\n",
        "\n",
        "ts = pd.Series(np.random.randint(100, 200, size=10), index=dates)\n",
        "print(ts)"
      ],
      "metadata": {
        "colab": {
          "base_uri": "https://localhost:8080/"
        },
        "id": "IPBujZaT8nDj",
        "outputId": "599a4548-4770-40b8-fc0f-95d1a4f37052"
      },
      "execution_count": null,
      "outputs": [
        {
          "output_type": "stream",
          "name": "stdout",
          "text": [
            "Generated Date Range:\n",
            " DatetimeIndex(['2024-01-01', '2024-01-02', '2024-01-03', '2024-01-04',\n",
            "               '2024-01-05', '2024-01-06', '2024-01-07', '2024-01-08',\n",
            "               '2024-01-09', '2024-01-10'],\n",
            "              dtype='datetime64[ns]', freq='D')\n",
            "2024-01-01    125\n",
            "2024-01-02    172\n",
            "2024-01-03    186\n",
            "2024-01-04    134\n",
            "2024-01-05    169\n",
            "2024-01-06    135\n",
            "2024-01-07    188\n",
            "2024-01-08    102\n",
            "2024-01-09    108\n",
            "2024-01-10    177\n",
            "Freq: D, dtype: int64\n"
          ]
        }
      ]
    },
    {
      "cell_type": "code",
      "source": [
        "import pandas as pd\n",
        "df = pd.DataFrame({\n",
        "    'Date': ['2024-01-01', '2024-01-02', '2024-01-03'],\n",
        "    'Value': [120, 135, 150]\n",
        "})\n",
        "df['Date'] = pd.to_datetime(df['Date'])\n",
        "print(\"Updated DataFrame:\\n\", df)"
      ],
      "metadata": {
        "colab": {
          "base_uri": "https://localhost:8080/"
        },
        "id": "39atlvhi9axz",
        "outputId": "4d5a7f4e-38f3-4efd-d2eb-9190cc83b908"
      },
      "execution_count": null,
      "outputs": [
        {
          "output_type": "stream",
          "name": "stdout",
          "text": [
            "Updated DataFrame:\n",
            "         Date  Value\n",
            "0 2024-01-01    120\n",
            "1 2024-01-02    135\n",
            "2 2024-01-03    150\n"
          ]
        }
      ]
    },
    {
      "cell_type": "code",
      "source": [
        "import pandas as pd\n",
        "df = pd.dataframe({\n",
        "    'date':\n",
        "})"
      ],
      "metadata": {
        "colab": {
          "base_uri": "https://localhost:8080/",
          "height": 106
        },
        "id": "8mYEdPb4l6e0",
        "outputId": "8b82e527-e18e-4844-a22f-ba1622e59051"
      },
      "execution_count": null,
      "outputs": [
        {
          "output_type": "error",
          "ename": "SyntaxError",
          "evalue": "expression expected after dictionary key and ':' (ipython-input-13-3388800251.py, line 3)",
          "traceback": [
            "\u001b[0;36m  File \u001b[0;32m\"/tmp/ipython-input-13-3388800251.py\"\u001b[0;36m, line \u001b[0;32m3\u001b[0m\n\u001b[0;31m    'date':\u001b[0m\n\u001b[0m          ^\u001b[0m\n\u001b[0;31mSyntaxError\u001b[0m\u001b[0;31m:\u001b[0m expression expected after dictionary key and ':'\n"
          ]
        }
      ]
    },
    {
      "cell_type": "code",
      "source": [
        "import pandas as pd\n",
        "df = pd.dataframe([\n",
        "\n",
        "])"
      ],
      "metadata": {
        "id": "yq-Kdv6FI5jC",
        "colab": {
          "base_uri": "https://localhost:8080/",
          "height": 193
        },
        "outputId": "3df8790a-4e99-4b4d-94c7-d60dc8643337"
      },
      "execution_count": null,
      "outputs": [
        {
          "output_type": "error",
          "ename": "AttributeError",
          "evalue": "module 'pandas' has no attribute 'dataframe'",
          "traceback": [
            "\u001b[0;31m---------------------------------------------------------------------------\u001b[0m",
            "\u001b[0;31mAttributeError\u001b[0m                            Traceback (most recent call last)",
            "\u001b[0;32m/tmp/ipython-input-14-7204533.py\u001b[0m in \u001b[0;36m<cell line: 0>\u001b[0;34m()\u001b[0m\n\u001b[1;32m      1\u001b[0m \u001b[0;32mimport\u001b[0m \u001b[0mpandas\u001b[0m \u001b[0;32mas\u001b[0m \u001b[0mpd\u001b[0m\u001b[0;34m\u001b[0m\u001b[0;34m\u001b[0m\u001b[0m\n\u001b[0;32m----> 2\u001b[0;31m df = pd.dataframe([\n\u001b[0m\u001b[1;32m      3\u001b[0m \u001b[0;34m\u001b[0m\u001b[0m\n\u001b[1;32m      4\u001b[0m ])\n",
            "\u001b[0;31mAttributeError\u001b[0m: module 'pandas' has no attribute 'dataframe'"
          ]
        }
      ]
    },
    {
      "cell_type": "code",
      "source": [
        "import pandas as pd\n",
        "import numpy as np\n",
        "dates = pd.date_range(start='2024-01-01', end='2024-01-10')\n",
        "ts = pd.Series(np.random.randn(len(dates)), index=dates)\n",
        "print(\"Single Date (2024-01-04):\")\n",
        "print(ts['2024-01-04'])\n",
        "print(\"\\nDate Range (2024-01-03 to 2024-01-07):\")\n",
        "print(ts['2024-01-03':'2024-01-07'])\n",
        "print(\"\\nAll data from January 2024:\")\n",
        "print(ts['2024-01'])"
      ],
      "metadata": {
        "colab": {
          "base_uri": "https://localhost:8080/"
        },
        "id": "36NgxHoQ-Amj",
        "outputId": "6545415d-477a-4e6e-bd1d-752066406be6"
      },
      "execution_count": null,
      "outputs": [
        {
          "output_type": "stream",
          "name": "stdout",
          "text": [
            "Single Date (2024-01-04):\n",
            "1.0855217893803728\n",
            "\n",
            "Date Range (2024-01-03 to 2024-01-07):\n",
            "2024-01-03   -3.197326\n",
            "2024-01-04    1.085522\n",
            "2024-01-05   -1.555346\n",
            "2024-01-06    0.663039\n",
            "2024-01-07   -0.862207\n",
            "Freq: D, dtype: float64\n",
            "\n",
            "All data from January 2024:\n",
            "2024-01-01    0.682392\n",
            "2024-01-02    1.553016\n",
            "2024-01-03   -3.197326\n",
            "2024-01-04    1.085522\n",
            "2024-01-05   -1.555346\n",
            "2024-01-06    0.663039\n",
            "2024-01-07   -0.862207\n",
            "2024-01-08    0.043745\n",
            "2024-01-09    0.241291\n",
            "2024-01-10   -0.287400\n",
            "Freq: D, dtype: float64\n"
          ]
        }
      ]
    },
    {
      "cell_type": "code",
      "source": [
        "import pandas as pd\n",
        "import numpy as np\n",
        "from functools import reduce\n",
        "df = pd.DataFrame({\n",
        "    'Name': ['Alice', 'Bob', 'Charlie', 'David'],\n",
        "    'Age': [25, 32, 30, 29],\n",
        "    'Salary': [50000, 60000, 55000, 52000]\n",
        "})\n",
        "print(df)"
      ],
      "metadata": {
        "colab": {
          "base_uri": "https://localhost:8080/"
        },
        "id": "nBIIuxja-DlM",
        "outputId": "6bdcddf9-bf85-473b-b774-253811815ae9"
      },
      "execution_count": null,
      "outputs": [
        {
          "output_type": "stream",
          "name": "stdout",
          "text": [
            "      Name  Age  Salary\n",
            "0    Alice   25   50000\n",
            "1      Bob   32   60000\n",
            "2  Charlie   30   55000\n",
            "3    David   29   52000\n"
          ]
        }
      ]
    },
    {
      "cell_type": "code",
      "source": [
        "import pandas as pd\n",
        "data = {\n",
        "    'Name': ['Alice', 'Bob', 'Charlie'],\n",
        "    'Salary': [50000, 60000, 55000],\n",
        "    'Age': [25, 32, 28]\n",
        "}\n",
        "df = pd.DataFrame(data)\n",
        "df['Updated_Salary'] = df['Salary'].apply(lambda x: x * 1.10)\n",
        "df['Age_Group'] = df['Age'].apply(lambda x: 'Young' if x < 30 else 'Adult')\n",
        "print(\"Updated DataFrame:\\n\", df)"
      ],
      "metadata": {
        "colab": {
          "base_uri": "https://localhost:8080/"
        },
        "id": "llcM-A2e-F27",
        "outputId": "30de8411-061c-4720-e099-044c60de4676"
      },
      "execution_count": null,
      "outputs": [
        {
          "output_type": "stream",
          "name": "stdout",
          "text": [
            "Updated DataFrame:\n",
            "       Name  Salary  Age  Updated_Salary Age_Group\n",
            "0    Alice   50000   25         55000.0     Young\n",
            "1      Bob   60000   32         66000.0     Adult\n",
            "2  Charlie   55000   28         60500.0     Young\n"
          ]
        }
      ]
    },
    {
      "cell_type": "code",
      "source": [
        "\n",
        "import pandas as pd\n",
        "data = {\n",
        "    'Name': ['Alice', 'Bob', 'Charlie'],\n",
        "    'Salary': [50000, 60000, 55000],\n",
        "    'Age': [25, 32, 28]\n",
        "}\n",
        "df = pd.DataFrame(data)\n",
        "df['Name_Upper'] = df['Name'].map(lambda x: x.upper())\n",
        "salary_levels = {50000: 'Low', 55000: 'Medium', 60000: 'High'}\n",
        "df['Salary_Level'] = df['Salary'].map(salary_levels)\n",
        "print(\"Updated DataFrame:\\n\", df)"
      ],
      "metadata": {
        "colab": {
          "base_uri": "https://localhost:8080/"
        },
        "id": "KHrzVB42-Ihb",
        "outputId": "a3afa707-ec67-404c-8009-499b5d21667e"
      },
      "execution_count": null,
      "outputs": [
        {
          "output_type": "stream",
          "name": "stdout",
          "text": [
            "Updated DataFrame:\n",
            "       Name  Salary  Age Name_Upper Salary_Level\n",
            "0    Alice   50000   25      ALICE          Low\n",
            "1      Bob   60000   32        BOB         High\n",
            "2  Charlie   55000   28    CHARLIE       Medium\n"
          ]
        }
      ]
    },
    {
      "cell_type": "code",
      "source": [
        "import pandas as pd\n",
        "data = {\n",
        "    'Name': ['Alice', 'Bob', 'Charlie', 'Aarav'],\n",
        "    'Salary': [50000, 60000, 55000, 53000],\n",
        "    'Age': [25, 32, 28, 24]\n",
        "}\n",
        "df = pd.DataFrame(data)\n",
        "filtered_salary = df[df['Salary'] > 52000]\n",
        "filtered_name = df[df['Name'].apply(lambda x: x.startswith('A'))]\n",
        "print(\"Employees with salary > 52000:\\n\", filtered_salary)\n",
        "print(\"\\nEmployees whose names start with 'A':\\n\", filtered_name)"
      ],
      "metadata": {
        "colab": {
          "base_uri": "https://localhost:8080/"
        },
        "id": "mH4VW5yz-Lbb",
        "outputId": "cb3d1b9f-d3be-46bf-8ba6-249d8d82b326"
      },
      "execution_count": null,
      "outputs": [
        {
          "output_type": "stream",
          "name": "stdout",
          "text": [
            "Employees with salary > 52000:\n",
            "       Name  Salary  Age\n",
            "1      Bob   60000   32\n",
            "2  Charlie   55000   28\n",
            "3    Aarav   53000   24\n",
            "\n",
            "Employees whose names start with 'A':\n",
            "     Name  Salary  Age\n",
            "0  Alice   50000   25\n",
            "3  Aarav   53000   24\n"
          ]
        }
      ]
    },
    {
      "cell_type": "code",
      "source": [
        "import pandas as pd\n",
        "from functools import reduce\n",
        "data = {\n",
        "    'Name': ['Alice', 'Bob', 'Charlie'],\n",
        "    'Age': [25, 32, 28]\n",
        "}\n",
        "df = pd.DataFrame(data)\n",
        "df['Name_Age'] = df.apply(\n",
        "    lambda row: reduce(lambda a, b: str(a) + '_' + str(b), [row['Name'], row['Age']]),\n",
        "    axis=1\n",
        ")\n",
        "print(\"Updated DataFrame:\\n\", df)\n",
        "\n",
        "\"\"\"# **GRAPHS\n",
        "**\n",
        "\"\"\""
      ],
      "metadata": {
        "colab": {
          "base_uri": "https://localhost:8080/",
          "height": 122
        },
        "id": "mqhifF4D-OU8",
        "outputId": "57f80a39-48dd-44b6-e04a-93b6849950b2"
      },
      "execution_count": null,
      "outputs": [
        {
          "output_type": "stream",
          "name": "stdout",
          "text": [
            "Updated DataFrame:\n",
            "       Name  Age    Name_Age\n",
            "0    Alice   25    Alice_25\n",
            "1      Bob   32      Bob_32\n",
            "2  Charlie   28  Charlie_28\n"
          ]
        },
        {
          "output_type": "execute_result",
          "data": {
            "text/plain": [
              "'# **GRAPHS\\n**\\n'"
            ],
            "application/vnd.google.colaboratory.intrinsic+json": {
              "type": "string"
            }
          },
          "metadata": {},
          "execution_count": 15
        }
      ]
    },
    {
      "cell_type": "code",
      "source": [
        "import matplotlib.pyplot as plt\n",
        "categories = ['Category A', 'Category B', 'Category C']\n",
        "amounts = [25, 50, 30]\n",
        "plt.bar(categories, amounts)\n",
        "plt.xlabel('Categories')\n",
        "plt.ylabel('Amounts')\n",
        "plt.title('Bar Chart of Amounts by Category')\n",
        "plt.show()"
      ],
      "metadata": {
        "colab": {
          "base_uri": "https://localhost:8080/",
          "height": 472
        },
        "id": "kPwhBVCy-RVL",
        "outputId": "d9feddd5-21a9-41c6-9744-cf58f2a39866"
      },
      "execution_count": null,
      "outputs": [
        {
          "output_type": "display_data",
          "data": {
            "text/plain": [
              "<Figure size 640x480 with 1 Axes>"
            ],
            "image/png": "[encoded data removed]"
          },
          "metadata": {}
        }
      ]
    },
    {
      "cell_type": "code",
      "source": [
        "import matplotlib.pyplot as plt\n",
        "categories = ['CATEGORY A', 'CATEGORY B', 'CATEGORY C']\n",
        "amounts = [20, 30, 50]\n",
        "plt.pie(amounts, labels=categories, autopct='%1.1f%%')\n",
        "plt.title('PIE CHART OF AMOUNTS BY CATEGORY')\n",
        "plt.show()\n"
      ],
      "metadata": {
        "colab": {
          "base_uri": "https://localhost:8080/",
          "height": 428
        },
        "id": "APF62NS8AUOz",
        "outputId": "6d57e469-222a-4032-8620-395a2f376da8"
      },
      "execution_count": null,
      "outputs": [
        {
          "output_type": "display_data",
          "data": {
            "text/plain": [
              "<Figure size 640x480 with 1 Axes>"
            ],
            "image/png": "[encoded data removed]"
          },
          "metadata": {}
        }
      ]
    },
    {
      "cell_type": "code",
      "source": [
        "import matplotlib.pyplot as plt\n",
        "years = [2010, 2011, 2012, 2013, 2014]\n",
        "amounts = [100, 120, 140, 110, 150]\n",
        "plt.plot(years, amounts, marker='o', linestyle='-')\n",
        "plt.xlabel('Year')\n",
        "plt.ylabel('Amount')\n",
        "plt.title('Line Chart of Amounts Over Time')\n",
        "plt.grid(True)\n",
        "plt.show()"
      ],
      "metadata": {
        "colab": {
          "base_uri": "https://localhost:8080/",
          "height": 472
        },
        "id": "358AVy8VAWzL",
        "outputId": "90a21e81-e61d-4591-fe27-5278ac365add"
      },
      "execution_count": null,
      "outputs": [
        {
          "output_type": "display_data",
          "data": {
            "text/plain": [
              "<Figure size 640x480 with 1 Axes>"
            ],
            "image/png": "[encoded data removed]"
          },
          "metadata": {}
        }
      ]
    },
    {
      "cell_type": "code",
      "source": [
        "import matplotlib.pyplot as plt\n",
        "x = [10, 20, 30, 40, 50]\n",
        "y = [50, 40, 30, 20, 10]\n",
        "plt.scatter(x, y)\n",
        "plt.xlabel('X-Axis')\n",
        "plt.ylabel('Y-Axis')\n",
        "plt.title('Scatter Plot of X vs. Y')\n",
        "plt.grid(True)\n",
        "plt.show()"
      ],
      "metadata": {
        "colab": {
          "base_uri": "https://localhost:8080/",
          "height": 472
        },
        "id": "4FaJa1P8AZpz",
        "outputId": "181d76ac-46ab-4e34-eb12-aa3c982a8d56"
      },
      "execution_count": null,
      "outputs": [
        {
          "output_type": "display_data",
          "data": {
            "text/plain": [
              "<Figure size 640x480 with 1 Axes>"
            ],
            "image/png": "[encoded data removed]"
          },
          "metadata": {}
        }
      ]
    },
    {
      "cell_type": "code",
      "source": [
        "import matplotlib.pyplot as plt\n",
        "import numpy as np\n",
        "data = np.random.randn(1000)\n",
        "plt.hist(data, bins=20, edgecolor='k')\n",
        "plt.xlabel('Value')\n",
        "plt.ylabel('Frequency')\n",
        "plt.title('Histogram of Data')\n",
        "plt.show()"
      ],
      "metadata": {
        "colab": {
          "base_uri": "https://localhost:8080/",
          "height": 472
        },
        "id": "hthC8SFHAd57",
        "outputId": "2408bda3-884f-4894-baa9-476ca3b6e85f"
      },
      "execution_count": null,
      "outputs": [
        {
          "output_type": "display_data",
          "data": {
            "text/plain": [
              "<Figure size 640x480 with 1 Axes>"
            ],
            "image/png": "[encoded data removed]"
          },
          "metadata": {}
        }
      ]
    },
    {
      "cell_type": "code",
      "source": [
        "import matplotlib.pyplot as plt\n",
        "import numpy as np\n",
        "mu, sigma = 0, 1\n",
        "data = np.random.normal(mu, sigma, 1000)\n",
        "plt.hist(data, bins=30, edgecolor='k', alpha=0.7)\n",
        "plt.xlabel('Value')\n",
        "plt.ylabel('Frequency')\n",
        "plt.title('Histogram of a Normal Distribution')\n",
        "plt.grid(True)\n",
        "plt.show()"
      ],
      "metadata": {
        "colab": {
          "base_uri": "https://localhost:8080/",
          "height": 472
        },
        "id": "wsISRr73AhUr",
        "outputId": "0f436692-e391-497e-9000-75dad645366a"
      },
      "execution_count": null,
      "outputs": [
        {
          "output_type": "display_data",
          "data": {
            "text/plain": [
              "<Figure size 640x480 with 1 Axes>"
            ],
            "image/png": "[encoded data removed]"
          },
          "metadata": {}
        }
      ]
    },
    {
      "cell_type": "code",
      "source": [
        "import matplotlib.pyplot as plt\n",
        "import numpy as np\n",
        "low, high = 0, 10\n",
        "data = np.random.uniform(low, high, 1000)\n",
        "plt.hist(data, bins=25, edgecolor='k', alpha=0.7)\n",
        "plt.xlabel('value')\n",
        "plt.ylabel('frequency')\n",
        "plt.title('Histogram of a uniform distribution')\n",
        "plt.grid(True)\n",
        "plt.show()"
      ],
      "metadata": {
        "colab": {
          "base_uri": "https://localhost:8080/",
          "height": 472
        },
        "id": "hYzE04H9msr-",
        "outputId": "6d761004-7083-4d01-92f0-1a4208bbf67c"
      },
      "execution_count": null,
      "outputs": [
        {
          "output_type": "display_data",
          "data": {
            "text/plain": [
              "<Figure size 640x480 with 1 Axes>"
            ],
            "image/png": "[encoded data removed]"
          },
          "metadata": {}
        }
      ]
    },
    {
      "cell_type": "code",
      "source": [
        "import matplotlib.pyplot as plt\n",
        "import numpy as np\n",
        "scale = 1.0\n",
        "data = np.random.exponential(scale, 1000)\n",
        "plt.hist(data, bins=20, edgecolor='k', alpha=0.7)\n",
        "plt.xlabel('Value')\n",
        "plt.ylabel('Frequency')\n",
        "plt.title('Histogram of an Exponential Distribution')\n",
        "plt.grid(True)\n",
        "plt.show()"
      ],
      "metadata": {
        "id": "iUHnxSBdBDhj",
        "colab": {
          "base_uri": "https://localhost:8080/",
          "height": 472
        },
        "outputId": "9705b09e-fe62-46eb-dc1e-b2428b7a91f1"
      },
      "execution_count": null,
      "outputs": [
        {
          "output_type": "display_data",
          "data": {
            "text/plain": [
              "<Figure size 640x480 with 1 Axes>"
            ],
            "image/png": "[encoded data removed]"
          },
          "metadata": {}
        }
      ]
    },
    {
      "cell_type": "code",
      "source": [
        "import seaborn as sns\n",
        "import numpy as np\n",
        "mu, sigma = 0, 1\n",
        "data = np.random.normal(mu, sigma, 1000)\n",
        "sns.kdeplot(data, shade=True)\n",
        "plt.xlabel('Value')\n",
        "plt.ylabel('Density')\n",
        "plt.title('Kernel Density Estimation (KDE) Plot of a Normal Distribution')\n",
        "plt.show()"
      ],
      "metadata": {
        "id": "j6vkdzGiBGyD",
        "colab": {
          "base_uri": "https://localhost:8080/",
          "height": 576
        },
        "outputId": "12ff20d5-d209-42a9-b331-0d7e6dcbe9db"
      },
      "execution_count": null,
      "outputs": [
        {
          "output_type": "stream",
          "name": "stderr",
          "text": [
            "/tmp/ipython-input-32-3478709504.py:5: FutureWarning: \n",
            "\n",
            "`shade` is now deprecated in favor of `fill`; setting `fill=True`.\n",
            "This will become an error in seaborn v0.14.0; please update your code.\n",
            "\n",
            "  sns.kdeplot(data, shade=True)\n"
          ]
        },
        {
          "output_type": "display_data",
          "data": {
            "text/plain": [
              "<Figure size 640x480 with 1 Axes>"
            ],
            "image/png": "[encoded data removed]"
          },
          "metadata": {}
        }
      ]
    },
    {
      "cell_type": "code",
      "source": [
        "import seaborn as sns\n",
        "data1 = np.random.normal(0, 1, 1000)\n",
        "data2 = np.random.normal(2, 1, 1000)\n",
        "sns.boxplot(data=[data1, data2])\n",
        "plt.xlabel('Distribution')\n",
        "plt.ylabel('Value')\n",
        "plt.title('Box Plot Comparison of Two Distributions')\n",
        "plt.show()"
      ],
      "metadata": {
        "id": "z-ed6eL-BJBD",
        "colab": {
          "base_uri": "https://localhost:8080/",
          "height": 472
        },
        "outputId": "1d6a58f0-5f7c-43f1-aa91-b9c128ced048"
      },
      "execution_count": null,
      "outputs": [
        {
          "output_type": "display_data",
          "data": {
            "text/plain": [
              "<Figure size 640x480 with 1 Axes>"
            ],
            "image/png": "[encoded data removed]"
          },
          "metadata": {}
        }
      ]
    },
    {
      "cell_type": "code",
      "source": [
        "import matplotlib.pyplot as plt\n",
        "categories = ['Category A', 'Category B', 'Category C']\n",
        "proportions = [0.5, 0.2, 0.3]\n",
        "plt.pie(proportions, labels=categories, autopct='%1.1f%%')\n",
        "plt.title('Pie Chart of Proportions')\n",
        "plt.show()"
      ],
      "metadata": {
        "id": "3THWdXMwBOMc",
        "colab": {
          "base_uri": "https://localhost:8080/",
          "height": 428
        },
        "outputId": "199e014f-d580-49c4-fd5c-afa825b0899f"
      },
      "execution_count": null,
      "outputs": [
        {
          "output_type": "display_data",
          "data": {
            "text/plain": [
              "<Figure size 640x480 with 1 Axes>"
            ],
            "image/png": "[encoded data removed]"
          },
          "metadata": {}
        }
      ]
    },
    {
      "cell_type": "code",
      "source": [
        "import matplotlib.pyplot as plt\n",
        "categories = ['Category A', 'Category B', 'Category C']\n",
        "proportions1 = [0.2, 0.4, 0.1]\n",
        "proportions2 = [0.3, 0.2, 0.4]\n",
        "plt.bar(categories, proportions1, label='Group 1')\n",
        "plt.bar(categories, proportions2, bottom=proportions1, label='Group 2')\n",
        "plt.xlabel('Categories')\n",
        "plt.ylabel('Proportions')\n",
        "plt.title('Stacked Bar Chart of Proportions')\n",
        "plt.legend()\n",
        "plt.show()"
      ],
      "metadata": {
        "id": "ubuA1gavBQLc",
        "colab": {
          "base_uri": "https://localhost:8080/",
          "height": 472
        },
        "outputId": "270b7ae3-e6b6-43f4-cb69-7500af560d01"
      },
      "execution_count": null,
      "outputs": [
        {
          "output_type": "display_data",
          "data": {
            "text/plain": [
              "<Figure size 640x480 with 1 Axes>"
            ],
            "image/png": "[encoded data removed]"
          },
          "metadata": {}
        }
      ]
    },
    {
      "cell_type": "code",
      "source": [
        "import matplotlib.pyplot as plt\n",
        "# Sample data representing proportions\n",
        "categories = ['Category A', 'Category B', 'Category C']\n",
        "proportions = [0.4, 0.3, 0.3]\n",
        "# Create a horizontal bar chart\n",
        "plt.barh(categories, proportions)\n",
        "# Adding labels and a title\n",
        "plt.xlabel('Proportions')\n",
        "plt.ylabel('Categories')\n",
        "plt.title('Horizontal Bar Chart of Proportions')\n",
        "# Show the plot\n",
        "plt.show()"
      ],
      "metadata": {
        "colab": {
          "base_uri": "https://localhost:8080/",
          "height": 472
        },
        "id": "q7tKcwOtuzYq",
        "outputId": "07a6dc64-8e16-4c57-a9d1-464947a52f6d"
      },
      "execution_count": 1,
      "outputs": [
        {
          "output_type": "display_data",
          "data": {
            "text/plain": [
              "<Figure size 640x480 with 1 Axes>"
            ],
            "image/png": "[encoded data removed]"
          },
          "metadata": {}
        }
      ]
    },
    {
      "cell_type": "code",
      "source": [
        "import matplotlib.pyplot as plt\n",
        "import numpy as np\n",
        "\n",
        "# Sample data representing proportions over time\n",
        "years = [2010, 2011, 2012, 2013, 2014]\n",
        "proportions1 = np.array([0.1, 0.2, 0.3, 0.4, 0.5])\n",
        "proportions2 = np.array([0.2, 0.3, 0.4, 0.5, 0.6])\n",
        "\n",
        "# Create a stacked area chart\n",
        "plt.stackplot(years, proportions1, proportions2, labels=['Group 1', 'Group 2'], alpha=0.5)\n",
        "\n",
        "# Adding labels and a legend\n",
        "plt.xlabel('Year')\n",
        "plt.ylabel('Proportions')\n",
        "plt.title('Stacked Area Chart of Proportions Over Time')\n",
        "plt.legend(loc='upper left')\n",
        "\n",
        "# Show the plot\n",
        "plt.show()"
      ],
      "metadata": {
        "colab": {
          "base_uri": "https://localhost:8080/",
          "height": 472
        },
        "id": "oL4yFzj6vI9i",
        "outputId": "eb05190b-823c-482f-ec86-21b53b834c35"
      },
      "execution_count": 2,
      "outputs": [
        {
          "output_type": "display_data",
          "data": {
            "text/plain": [
              "<Figure size 640x480 with 1 Axes>"
            ],
            "image/png": "[encoded data removed]"
          },
          "metadata": {}
        }
      ]
    },
    {
      "cell_type": "code",
      "source": [
        "import matplotlib.pyplot as plt\n",
        "import numpy as np\n",
        "# Generate sample data for two variables with a positive association\n",
        "x = np.random.rand(100)\n",
        "y = 2 * x + np.random.rand(100)\n",
        "# Create a scatter plot\n",
        "plt.scatter(x, y)\n",
        "# Adding labels and a title\n",
        "plt.xlabel('X')\n",
        "plt.ylabel('Y')\n",
        "plt.title('Scatter Plot for Bivariate Association')\n",
        "# Show the plot\n",
        "plt.grid(True)\n",
        "plt.show()\n"
      ],
      "metadata": {
        "colab": {
          "base_uri": "https://localhost:8080/",
          "height": 472
        },
        "id": "zsU49ijUvXCK",
        "outputId": "5461762f-81a7-4430-c3ef-9db435e12f0c"
      },
      "execution_count": 3,
      "outputs": [
        {
          "output_type": "display_data",
          "data": {
            "text/plain": [
              "<Figure size 640x480 with 1 Axes>"
            ],
            "image/png": "[encoded data removed]"
          },
          "metadata": {}
        }
      ]
    },
    {
      "cell_type": "code",
      "source": [],
      "metadata": {
        "id": "urlwPjl4wlj6"
      },
      "execution_count": null,
      "outputs": []
    }
  ]
}